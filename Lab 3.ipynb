{
 "cells": [
  {
   "cell_type": "code",
   "execution_count": null,
   "metadata": {},
   "outputs": [],
   "source": [
    "import pandas as pd\n",
    "\n",
    "# Leer el archivo CSV de titulados ed_sup 2022\n",
    "part1 = pd.read_csv('part1.csv')\n",
    "part2 = pd.read_csv('part2.csv')\n",
    "part3 = pd.read_csv('part3.csv')\n",
    "part4 = pd.read_csv('part4.csv')\n",
    "df_titulados = pd.concat([part1, part2, part3, part4])"
   ]
  },
  {
   "cell_type": "code",
   "execution_count": null,
   "metadata": {},
   "outputs": [],
   "source": [
    "pd.set_option('display.max_columns', None)"
   ]
  },
  {
   "cell_type": "code",
   "execution_count": null,
   "metadata": {},
   "outputs": [],
   "source": [
    "df_titulados.head()"
   ]
  },
  {
   "cell_type": "code",
   "execution_count": null,
   "metadata": {},
   "outputs": [],
   "source": [
    "df_notas2015 = pd.read_csv('20240404 Notas y Egresados EnseñanzaMedia 2015_WEB.csv',sep=\";\", encoding='latin1')\n",
    "df_notas2016 = pd.read_csv('20240404 Notas y Egresados EnseñanzaMedia 2016_WEB.csv',sep=\";\", encoding='latin1')\n",
    "df_notas2017 = pd.read_csv('20240404 Notas y Egresados EnseñanzaMedia 2017_WEB.csv',sep=\";\", encoding='latin1')\n",
    "df_notas2018 = pd.read_csv('20240404 Notas y Egresados EnseñanzaMedia 2018_WEB.csv',sep=\";\", encoding='latin1')\n",
    "df_notas2019 = pd.read_csv('20240404 Notas y Egresados EnseñanzaMedia 2019_WEB.csv',sep=\";\", encoding='latin1')\n",
    "df_notas2020 = pd.read_csv('20240404 Notas y Egresados EnseñanzaMedia 2020_WEB.csv',sep=\";\", encoding='latin1')\n",
    "df_notas2015_2020 = pd.concat([df_notas2015, df_notas2016, df_notas2017, df_notas2018, df_notas2019, df_notas2020])\n"
   ]
  },
  {
   "cell_type": "code",
   "execution_count": null,
   "metadata": {},
   "outputs": [],
   "source": [
    "df_notas2015_2020.head()"
   ]
  },
  {
   "cell_type": "markdown",
   "metadata": {},
   "source": [
    "Proposicion preprocesado"
   ]
  },
  {
   "cell_type": "code",
   "execution_count": null,
   "metadata": {},
   "outputs": [],
   "source": [
    "#vemos el tamaño para saber las dimensiones en futuras referencias\n",
    "df_titulados.shape"
   ]
  },
  {
   "cell_type": "code",
   "execution_count": null,
   "metadata": {},
   "outputs": [],
   "source": [
    "#evaluamos las columnas para ver que utilizaremos\n",
    "df_titulados.head(20)"
   ]
  },
  {
   "cell_type": "code",
   "execution_count": null,
   "metadata": {},
   "outputs": [],
   "source": [
    "#decidimos eliminar las columnas que no vemos util\n",
    "columnas_a_eliminar = ['fec_nac_alu','anio_ing_carr_ori','sem_ing_carr_ori','sem_ing_carr_act','fecha_obtencion_titulo','cod_inst','cod_sede','cod_carrera','dur_proceso_tit','provincia_sede','comuna_sede','version','tipo_plan_carr','area_cineunesco','area_cine_f_97','subarea_cine_f_97','area_cine_f_13','subarea_cine_f_13','area_carrera_generica_n']\n",
    "df_titulados.drop(columns=columnas_a_eliminar, inplace=True)"
   ]
  },
  {
   "cell_type": "code",
   "execution_count": null,
   "metadata": {},
   "outputs": [],
   "source": [
    "#evaluamos si hay nulos\n",
    "df_titulados.isnull().sum()"
   ]
  },
  {
   "cell_type": "code",
   "execution_count": null,
   "metadata": {},
   "outputs": [],
   "source": [
    "#Notamos que mrun tiene nulos lo cual no lo consideraremos ya que son necesarios para un merge a futuro que haremos\n",
    "df_titulados.dropna(subset=[\"mrun\"], inplace=True)"
   ]
  },
  {
   "cell_type": "code",
   "execution_count": null,
   "metadata": {},
   "outputs": [],
   "source": [
    "#tambien notamos que hay muchos nulos en nombres de itulos obtenidos, lo que asumimos que no lo consiguieron.\n",
    "# por lo que lo rellenaremos como no completados\n",
    "df_titulados[\"nomb_titulo_obtenido\"].fillna('No completado', inplace=True)"
   ]
  },
  {
   "cell_type": "code",
   "execution_count": null,
   "metadata": {},
   "outputs": [],
   "source": [
    "#lo mismo para el nombre de grado obtenido\n",
    "df_titulados[\"nomb_grado_obtenido\"].fillna('Grado superior no obtenido', inplace=True)"
   ]
  },
  {
   "cell_type": "code",
   "execution_count": null,
   "metadata": {},
   "outputs": [],
   "source": [
    "#comprobamos si hay duplicados\n",
    "df_titulados.duplicated().sum()\n",
    "df_titulados.drop_duplicates"
   ]
  },
  {
   "cell_type": "code",
   "execution_count": null,
   "metadata": {},
   "outputs": [],
   "source": [
    "#ahora vemos si los tippos de datos son los correctos en las columnas y si son necesarios cambiarlos \n",
    "# (veremos en el codigo mas adelante si son necesarios)\n",
    "df_titulados.info()"
   ]
  },
  {
   "cell_type": "markdown",
   "metadata": {},
   "source": [
    "Preprocesado notas"
   ]
  },
  {
   "cell_type": "code",
   "execution_count": null,
   "metadata": {},
   "outputs": [],
   "source": [
    "df_notas2015_2020.shape"
   ]
  },
  {
   "cell_type": "code",
   "execution_count": null,
   "metadata": {},
   "outputs": [],
   "source": [
    "df_notas2015_2020.head(2)"
   ]
  },
  {
   "cell_type": "code",
   "execution_count": null,
   "metadata": {},
   "outputs": [],
   "source": [
    "#decidimos eliminar las columnas que no vemos util\n",
    "columnas_a_eliminar = ['DGV_RBD','COD_REG_RBD','RBD','NOM_REG_RBD_A','COD_PRO_RBD','COD_COM_RBD','NOM_COM_RBD','COD_DEPROV_RBD','NOM_DEPROV_RBD']\n",
    "df_notas2015_2020.drop(columns=columnas_a_eliminar, inplace=True)"
   ]
  },
  {
   "cell_type": "code",
   "execution_count": null,
   "metadata": {},
   "outputs": [],
   "source": [
    "#evaluamos si hay nulos\n",
    "df_notas2015_2020.isnull().sum()"
   ]
  },
  {
   "cell_type": "code",
   "execution_count": null,
   "metadata": {},
   "outputs": [],
   "source": [
    "#comprobamos si hay duplicados\n",
    "df_notas2015_2020.duplicated().sum()"
   ]
  },
  {
   "cell_type": "code",
   "execution_count": 33,
   "metadata": {},
   "outputs": [
    {
     "name": "stdout",
     "output_type": "stream",
     "text": [
      "<class 'pandas.core.frame.DataFrame'>\n",
      "Index: 5562405 entries, 0 to 974098\n",
      "Data columns (total 8 columns):\n",
      " #   Column          Dtype \n",
      "---  ------          ----- \n",
      " 0   AGNO            int64 \n",
      " 1   COD_ENSE        int64 \n",
      " 2   COD_GRADO       int64 \n",
      " 3   MRUN            int64 \n",
      " 4   PROM_NOTAS_ALU  object\n",
      " 5   ORIGEN          object\n",
      " 6   ENSE_COMPLETA   int64 \n",
      " 7   MARCA_EGRESO    int64 \n",
      "dtypes: int64(6), object(2)\n",
      "memory usage: 381.9+ MB\n"
     ]
    }
   ],
   "source": [
    "#ahora vemos si los tippos de datos son los correctos en las columnas y si son necesarios cambiarlos \n",
    "# (veremos en el codigo mas adelante si son necesarios)\n",
    "df_notas2015_2020.info()"
   ]
  },
  {
   "cell_type": "markdown",
   "metadata": {},
   "source": [
    "Pensando en el merge"
   ]
  },
  {
   "cell_type": "code",
   "execution_count": 34,
   "metadata": {},
   "outputs": [
    {
     "data": {
      "text/html": [
       "<div>\n",
       "<style scoped>\n",
       "    .dataframe tbody tr th:only-of-type {\n",
       "        vertical-align: middle;\n",
       "    }\n",
       "\n",
       "    .dataframe tbody tr th {\n",
       "        vertical-align: top;\n",
       "    }\n",
       "\n",
       "    .dataframe thead th {\n",
       "        text-align: right;\n",
       "    }\n",
       "</style>\n",
       "<table border=\"1\" class=\"dataframe\">\n",
       "  <thead>\n",
       "    <tr style=\"text-align: right;\">\n",
       "      <th></th>\n",
       "      <th>AGNO</th>\n",
       "      <th>COD_ENSE</th>\n",
       "      <th>COD_GRADO</th>\n",
       "      <th>MRUN</th>\n",
       "      <th>PROM_NOTAS_ALU</th>\n",
       "      <th>ORIGEN</th>\n",
       "      <th>ENSE_COMPLETA</th>\n",
       "      <th>MARCA_EGRESO</th>\n",
       "    </tr>\n",
       "  </thead>\n",
       "  <tbody>\n",
       "    <tr>\n",
       "      <th>0</th>\n",
       "      <td>2015</td>\n",
       "      <td>363</td>\n",
       "      <td>4</td>\n",
       "      <td>20111494</td>\n",
       "      <td>6,5</td>\n",
       "      <td>RENDIMIENTO</td>\n",
       "      <td>1</td>\n",
       "      <td>1</td>\n",
       "    </tr>\n",
       "  </tbody>\n",
       "</table>\n",
       "</div>"
      ],
      "text/plain": [
       "   AGNO  COD_ENSE  COD_GRADO      MRUN PROM_NOTAS_ALU       ORIGEN  \\\n",
       "0  2015       363          4  20111494            6,5  RENDIMIENTO   \n",
       "\n",
       "   ENSE_COMPLETA  MARCA_EGRESO  \n",
       "0              1             1  "
      ]
     },
     "execution_count": 34,
     "metadata": {},
     "output_type": "execute_result"
    }
   ],
   "source": [
    "df_notas2015_2020.head(1)"
   ]
  },
  {
   "cell_type": "code",
   "execution_count": 35,
   "metadata": {},
   "outputs": [
    {
     "data": {
      "text/html": [
       "<div>\n",
       "<style scoped>\n",
       "    .dataframe tbody tr th:only-of-type {\n",
       "        vertical-align: middle;\n",
       "    }\n",
       "\n",
       "    .dataframe tbody tr th {\n",
       "        vertical-align: top;\n",
       "    }\n",
       "\n",
       "    .dataframe thead th {\n",
       "        text-align: right;\n",
       "    }\n",
       "</style>\n",
       "<table border=\"1\" class=\"dataframe\">\n",
       "  <thead>\n",
       "    <tr style=\"text-align: right;\">\n",
       "      <th></th>\n",
       "      <th>cat_periodo</th>\n",
       "      <th>codigo_unico</th>\n",
       "      <th>mrun</th>\n",
       "      <th>gen_alu</th>\n",
       "      <th>rango_edad</th>\n",
       "      <th>anio_ing_carr_act</th>\n",
       "      <th>nomb_titulo_obtenido</th>\n",
       "      <th>nomb_grado_obtenido</th>\n",
       "      <th>tipo_inst_1</th>\n",
       "      <th>tipo_inst_2</th>\n",
       "      <th>tipo_inst_3</th>\n",
       "      <th>nomb_inst</th>\n",
       "      <th>nomb_sede</th>\n",
       "      <th>nomb_carrera</th>\n",
       "      <th>nivel_global</th>\n",
       "      <th>nivel_carrera_1</th>\n",
       "      <th>nivel_carrera_2</th>\n",
       "      <th>dur_estudio_carr</th>\n",
       "      <th>dur_total_carr</th>\n",
       "      <th>region_sede</th>\n",
       "      <th>jornada</th>\n",
       "      <th>modalidad</th>\n",
       "    </tr>\n",
       "  </thead>\n",
       "  <tbody>\n",
       "    <tr>\n",
       "      <th>0</th>\n",
       "      <td>2022</td>\n",
       "      <td>I70S1C574J2V1</td>\n",
       "      <td>43.0</td>\n",
       "      <td>2</td>\n",
       "      <td>30 a 34 Años</td>\n",
       "      <td>2017</td>\n",
       "      <td>No completado</td>\n",
       "      <td>MAGISTER EN ANALISIS SISTEMICO APLICADO A LA S...</td>\n",
       "      <td>Universidades</td>\n",
       "      <td>Universidades CRUCH</td>\n",
       "      <td>Universidades Estatales CRUCH</td>\n",
       "      <td>UNIVERSIDAD DE CHILE</td>\n",
       "      <td>SANTIAGO</td>\n",
       "      <td>MAGISTER EN ANALISIS SISTEMICO APLICADO A LA S...</td>\n",
       "      <td>Postgrado</td>\n",
       "      <td>Magister</td>\n",
       "      <td>Magister</td>\n",
       "      <td>4</td>\n",
       "      <td>4</td>\n",
       "      <td>Metropolitana</td>\n",
       "      <td>Vespertino</td>\n",
       "      <td>Presencial</td>\n",
       "    </tr>\n",
       "  </tbody>\n",
       "</table>\n",
       "</div>"
      ],
      "text/plain": [
       "   cat_periodo   codigo_unico  mrun  gen_alu    rango_edad  anio_ing_carr_act  \\\n",
       "0         2022  I70S1C574J2V1  43.0        2  30 a 34 Años               2017   \n",
       "\n",
       "  nomb_titulo_obtenido                                nomb_grado_obtenido  \\\n",
       "0        No completado  MAGISTER EN ANALISIS SISTEMICO APLICADO A LA S...   \n",
       "\n",
       "     tipo_inst_1          tipo_inst_2                    tipo_inst_3  \\\n",
       "0  Universidades  Universidades CRUCH  Universidades Estatales CRUCH   \n",
       "\n",
       "              nomb_inst nomb_sede  \\\n",
       "0  UNIVERSIDAD DE CHILE  SANTIAGO   \n",
       "\n",
       "                                        nomb_carrera nivel_global  \\\n",
       "0  MAGISTER EN ANALISIS SISTEMICO APLICADO A LA S...    Postgrado   \n",
       "\n",
       "  nivel_carrera_1 nivel_carrera_2  dur_estudio_carr  dur_total_carr  \\\n",
       "0        Magister        Magister                 4               4   \n",
       "\n",
       "     region_sede     jornada   modalidad  \n",
       "0  Metropolitana  Vespertino  Presencial  "
      ]
     },
     "execution_count": 35,
     "metadata": {},
     "output_type": "execute_result"
    }
   ],
   "source": [
    "df_titulados.head(1)"
   ]
  }
 ],
 "metadata": {
  "kernelspec": {
   "display_name": "Python 3",
   "language": "python",
   "name": "python3"
  },
  "language_info": {
   "codemirror_mode": {
    "name": "ipython",
    "version": 3
   },
   "file_extension": ".py",
   "mimetype": "text/x-python",
   "name": "python",
   "nbconvert_exporter": "python",
   "pygments_lexer": "ipython3",
   "version": "3.12.4"
  }
 },
 "nbformat": 4,
 "nbformat_minor": 2
}
