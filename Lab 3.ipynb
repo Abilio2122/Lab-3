{
 "cells": [
  {
   "cell_type": "code",
   "execution_count": null,
   "metadata": {},
   "outputs": [],
   "source": [
    "import pandas as pd\n",
    "\n",
    "# Leer el archivo CSV de titulados ed_sup 2022\n",
    "part1 = pd.read_csv('part1.csv')\n",
    "part2 = pd.read_csv('part2.csv')\n",
    "part3 = pd.read_csv('part3.csv')\n",
    "part4 = pd.read_csv('part4.csv')\n",
    "df_titulados = pd.concat([part1, part2, part3, part4])"
   ]
  },
  {
   "cell_type": "code",
   "execution_count": null,
   "metadata": {},
   "outputs": [],
   "source": [
    "pd.set_option('display.max_columns', None)"
   ]
  },
  {
   "cell_type": "code",
   "execution_count": null,
   "metadata": {},
   "outputs": [],
   "source": [
    "df_titulados.head()"
   ]
  },
  {
   "cell_type": "code",
   "execution_count": null,
   "metadata": {},
   "outputs": [],
   "source": [
    "df_notas2015 = pd.read_csv('20240404 Notas y Egresados EnseñanzaMedia 2015_WEB.csv',sep=\";\", encoding='latin1')\n",
    "df_notas2016 = pd.read_csv('20240404 Notas y Egresados EnseñanzaMedia 2016_WEB.csv',sep=\";\", encoding='latin1')\n",
    "df_notas2017 = pd.read_csv('20240404 Notas y Egresados EnseñanzaMedia 2017_WEB.csv',sep=\";\", encoding='latin1')\n",
    "df_notas2018 = pd.read_csv('20240404 Notas y Egresados EnseñanzaMedia 2018_WEB.csv',sep=\";\", encoding='latin1')\n",
    "df_notas2019 = pd.read_csv('20240404 Notas y Egresados EnseñanzaMedia 2019_WEB.csv',sep=\";\", encoding='latin1')\n",
    "df_notas2020 = pd.read_csv('20240404 Notas y Egresados EnseñanzaMedia 2020_WEB.csv',sep=\";\", encoding='latin1')\n",
    "df_notas2015_2020 = pd.concat([df_notas2015, df_notas2016, df_notas2017, df_notas2018, df_notas2019, df_notas2020])\n"
   ]
  },
  {
   "cell_type": "code",
   "execution_count": null,
   "metadata": {},
   "outputs": [],
   "source": [
    "df_notas2015_2020.head()"
   ]
  },
  {
   "cell_type": "markdown",
   "metadata": {},
   "source": [
    "Proposicion preprocesado"
   ]
  },
  {
   "cell_type": "code",
   "execution_count": null,
   "metadata": {},
   "outputs": [],
   "source": [
    "#vemos el tamaño para saber las dimensiones en futuras referencias\n",
    "df_titulados.shape"
   ]
  },
  {
   "cell_type": "code",
   "execution_count": null,
   "metadata": {},
   "outputs": [],
   "source": [
    "#evaluamos las columnas para ver que utilizaremos\n",
    "df_titulados.head(20)"
   ]
  },
  {
   "cell_type": "code",
   "execution_count": null,
   "metadata": {},
   "outputs": [],
   "source": [
    "#decidimos eliminar las columnas que no vemos util\n",
    "columnas_a_eliminar = ['fec_nac_alu','anio_ing_carr_ori','sem_ing_carr_ori','sem_ing_carr_act','fecha_obtencion_titulo','cod_inst','cod_sede','cod_carrera','dur_proceso_tit','provincia_sede','comuna_sede','version','tipo_plan_carr','area_cineunesco','area_cine_f_97','subarea_cine_f_97','area_cine_f_13','subarea_cine_f_13','area_carrera_generica_n']\n",
    "df_titulados.drop(columns=columnas_a_eliminar, inplace=True)"
   ]
  },
  {
   "cell_type": "code",
   "execution_count": null,
   "metadata": {},
   "outputs": [],
   "source": [
    "df_titulados"
   ]
  },
  {
   "cell_type": "code",
   "execution_count": null,
   "metadata": {},
   "outputs": [],
   "source": [
    "#evaluamos si hay nulos\n",
    "df_titulados.isnull().sum()"
   ]
  },
  {
   "cell_type": "code",
   "execution_count": null,
   "metadata": {},
   "outputs": [],
   "source": [
    "#Notamos que mrun tiene nulos lo cual no lo consideraremos ya que son necesarios para un merge a futuro que haremos\n",
    "df_titulados.dropna(subset=[\"mrun\"], inplace=True)"
   ]
  },
  {
   "cell_type": "code",
   "execution_count": null,
   "metadata": {},
   "outputs": [],
   "source": [
    "#tambien notamos que hay muchos nulos en nombres de itulos obtenidos, lo que asumimos que no lo consiguieron.\n",
    "# por lo que lo rellenaremos como no completados\n",
    "df_titulados[\"nomb_titulo_obtenido\"].fillna('No completado', inplace=True)"
   ]
  },
  {
   "cell_type": "code",
   "execution_count": null,
   "metadata": {},
   "outputs": [],
   "source": [
    "#lo mismo para el nombre de grado obtenido\n",
    "df_titulados[\"nomb_grado_obtenido\"].fillna('Grado superior no obtenido', inplace=True)"
   ]
  },
  {
   "cell_type": "code",
   "execution_count": null,
   "metadata": {},
   "outputs": [],
   "source": [
    "#comprobamos si hay duplicados\n",
    "df_titulados.duplicated().sum()\n",
    "df_titulados.drop_duplicates"
   ]
  },
  {
   "cell_type": "code",
   "execution_count": null,
   "metadata": {},
   "outputs": [],
   "source": [
    "#ahora vemos si los tippos de datos son los correctos en las columnas y si son necesarios cambiarlos \n",
    "# (veremos en el codigo mas adelante si son necesarios)\n",
    "df_titulados.info()"
   ]
  },
  {
   "cell_type": "code",
   "execution_count": null,
   "metadata": {},
   "outputs": [],
   "source": [
    "'''\n",
    "from sklearn.preprocessing import StandardScaler, LabelEncoder\n",
    "\n",
    "# 1. Carga de datos\n",
    "df_titulados = pd.read_csv('20240404 Notas y Egresados EnseñanzaMedia 2015_WEB.csv', sep=';', encoding='latin1')\n",
    "\n",
    "# 2. Exploración de datos\n",
    "print(df_titulados.head())\n",
    "print(df_titulados.info())\n",
    "\n",
    "# 3. Limpieza de datos\n",
    "# Manejar valores nulos\n",
    "df_titulados = df_titulados.dropna()  # Esto elimina filas con cualquier valor nulo. Alternativamente, puedes rellenar valores nulos con un valor específico.\n",
    "\n",
    "# Convertir tipos de datos si es necesario\n",
    "# Por ejemplo, convertir una columna a datetime\n",
    "# df_titulados['fecha'] = pd.to_datetime(df_titulados['fecha'], format='%Y-%m-%d')\n",
    "\n",
    "# Eliminar duplicados si es necesario\n",
    "df_titulados = df_titulados.drop_duplicates()\n",
    "\n",
    "# 4. Transformación de datos\n",
    "# Normalizar características numéricas\n",
    "scaler = StandardScaler()\n",
    "numeric_columns = df_titulados.select_dtypes(include=['float64', 'int64']).columns\n",
    "df_titulados[numeric_columns] = scaler.fit_transform(df_titulados[numeric_columns])\n",
    "\n",
    "# Codificar variables categóricas\n",
    "label_encoder = LabelEncoder()\n",
    "categorical_columns = df_titulados.select_dtypes(include=['object']).columns\n",
    "for col in categorical_columns:\n",
    "    df_titulados[col] = label_encoder.fit_transform(df_titulados[col])\n",
    "\n",
    "# Ver las primeras filas del DataFrame preprocesado\n",
    "print(df_titulados.head())\n",
    "'''\n"
   ]
  }
 ],
 "metadata": {
  "kernelspec": {
   "display_name": "Python 3",
   "language": "python",
   "name": "python3"
  },
  "language_info": {
   "codemirror_mode": {
    "name": "ipython",
    "version": 3
   },
   "file_extension": ".py",
   "mimetype": "text/x-python",
   "name": "python",
   "nbconvert_exporter": "python",
   "pygments_lexer": "ipython3",
   "version": "3.12.4"
  }
 },
 "nbformat": 4,
 "nbformat_minor": 2
}
