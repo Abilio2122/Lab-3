{
 "cells": [
  {
   "cell_type": "code",
   "execution_count": 6,
   "metadata": {},
   "outputs": [],
   "source": [
    "import pandas as pd\n",
    "\n",
    "# Leer el archivo CSV de titulados ed_sup 2022\n",
    "part1 = pd.read_csv('part1.csv')\n",
    "part2 = pd.read_csv('part2.csv')\n",
    "part3 = pd.read_csv('part3.csv')\n",
    "part4 = pd.read_csv('part4.csv')\n",
    "df_titulados = pd.concat([part1, part2, part3, part4])"
   ]
  },
  {
   "cell_type": "code",
   "execution_count": null,
   "metadata": {},
   "outputs": [],
   "source": [
    "df_titulados.head()"
   ]
  },
  {
   "cell_type": "code",
   "execution_count": 20,
   "metadata": {},
   "outputs": [],
   "source": [
    "df_notas2015 = pd.read_csv('20240404 Notas y Egresados EnseñanzaMedia 2015_WEB.csv',sep=\";\", encoding='latin1')\n",
    "df_notas2016 = pd.read_csv('20240404 Notas y Egresados EnseñanzaMedia 2016_WEB.csv',sep=\";\", encoding='latin1')\n",
    "df_notas2017 = pd.read_csv('20240404 Notas y Egresados EnseñanzaMedia 2017_WEB.csv',sep=\";\", encoding='latin1')\n",
    "df_notas2018 = pd.read_csv('20240404 Notas y Egresados EnseñanzaMedia 2018_WEB.csv',sep=\";\", encoding='latin1')\n",
    "df_notas2019 = pd.read_csv('20240404 Notas y Egresados EnseñanzaMedia 2019_WEB.csv',sep=\";\", encoding='latin1')\n",
    "df_notas2020 = pd.read_csv('20240404 Notas y Egresados EnseñanzaMedia 2020_WEB.csv',sep=\";\", encoding='latin1')\n",
    "df_notas2015_2020 = pd.concat([df_notas2015, df_notas2016, df_notas2017, df_notas2018, df_notas2019, df_notas2020])\n"
   ]
  },
  {
   "cell_type": "code",
   "execution_count": null,
   "metadata": {},
   "outputs": [],
   "source": [
    "df_notas2015_2020"
   ]
  },
  {
   "cell_type": "markdown",
   "metadata": {},
   "source": [
    "Proposicion preprocesado"
   ]
  },
  {
   "cell_type": "code",
   "execution_count": 22,
   "metadata": {},
   "outputs": [
    {
     "data": {
      "text/plain": [
       "\"\\nfrom sklearn.preprocessing import StandardScaler, LabelEncoder\\n\\n# 1. Carga de datos\\ndf_titulados = pd.read_csv('20240404 Notas y Egresados EnseñanzaMedia 2015_WEB.csv', sep=';', encoding='latin1')\\n\\n# 2. Exploración de datos\\nprint(df_titulados.head())\\nprint(df_titulados.info())\\n\\n# 3. Limpieza de datos\\n# Manejar valores nulos\\ndf_titulados = df_titulados.dropna()  # Esto elimina filas con cualquier valor nulo. Alternativamente, puedes rellenar valores nulos con un valor específico.\\n\\n# Convertir tipos de datos si es necesario\\n# Por ejemplo, convertir una columna a datetime\\n# df_titulados['fecha'] = pd.to_datetime(df_titulados['fecha'], format='%Y-%m-%d')\\n\\n# Eliminar duplicados si es necesario\\ndf_titulados = df_titulados.drop_duplicates()\\n\\n# 4. Transformación de datos\\n# Normalizar características numéricas\\nscaler = StandardScaler()\\nnumeric_columns = df_titulados.select_dtypes(include=['float64', 'int64']).columns\\ndf_titulados[numeric_columns] = scaler.fit_transform(df_titulados[numeric_columns])\\n\\n# Codificar variables categóricas\\nlabel_encoder = LabelEncoder()\\ncategorical_columns = df_titulados.select_dtypes(include=['object']).columns\\nfor col in categorical_columns:\\n    df_titulados[col] = label_encoder.fit_transform(df_titulados[col])\\n\\n# Ver las primeras filas del DataFrame preprocesado\\nprint(df_titulados.head())\\n\""
      ]
     },
     "execution_count": 22,
     "metadata": {},
     "output_type": "execute_result"
    }
   ],
   "source": [
    "'''\n",
    "from sklearn.preprocessing import StandardScaler, LabelEncoder\n",
    "\n",
    "# 1. Carga de datos\n",
    "df_titulados = pd.read_csv('20240404 Notas y Egresados EnseñanzaMedia 2015_WEB.csv', sep=';', encoding='latin1')\n",
    "\n",
    "# 2. Exploración de datos\n",
    "print(df_titulados.head())\n",
    "print(df_titulados.info())\n",
    "\n",
    "# 3. Limpieza de datos\n",
    "# Manejar valores nulos\n",
    "df_titulados = df_titulados.dropna()  # Esto elimina filas con cualquier valor nulo. Alternativamente, puedes rellenar valores nulos con un valor específico.\n",
    "\n",
    "# Convertir tipos de datos si es necesario\n",
    "# Por ejemplo, convertir una columna a datetime\n",
    "# df_titulados['fecha'] = pd.to_datetime(df_titulados['fecha'], format='%Y-%m-%d')\n",
    "\n",
    "# Eliminar duplicados si es necesario\n",
    "df_titulados = df_titulados.drop_duplicates()\n",
    "\n",
    "# 4. Transformación de datos\n",
    "# Normalizar características numéricas\n",
    "scaler = StandardScaler()\n",
    "numeric_columns = df_titulados.select_dtypes(include=['float64', 'int64']).columns\n",
    "df_titulados[numeric_columns] = scaler.fit_transform(df_titulados[numeric_columns])\n",
    "\n",
    "# Codificar variables categóricas\n",
    "label_encoder = LabelEncoder()\n",
    "categorical_columns = df_titulados.select_dtypes(include=['object']).columns\n",
    "for col in categorical_columns:\n",
    "    df_titulados[col] = label_encoder.fit_transform(df_titulados[col])\n",
    "\n",
    "# Ver las primeras filas del DataFrame preprocesado\n",
    "print(df_titulados.head())\n",
    "'''\n"
   ]
  },
  {
   "cell_type": "code",
   "execution_count": null,
   "metadata": {},
   "outputs": [],
   "source": [
    "prueba"
   ]
  }
 ],
 "metadata": {
  "kernelspec": {
   "display_name": "Python 3",
   "language": "python",
   "name": "python3"
  },
  "language_info": {
   "codemirror_mode": {
    "name": "ipython",
    "version": 3
   },
   "file_extension": ".py",
   "mimetype": "text/x-python",
   "name": "python",
   "nbconvert_exporter": "python",
   "pygments_lexer": "ipython3",
   "version": "3.11.9"
  }
 },
 "nbformat": 4,
 "nbformat_minor": 2
}
