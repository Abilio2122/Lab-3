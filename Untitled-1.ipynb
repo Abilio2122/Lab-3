{
 "cells": [
  {
   "cell_type": "code",
   "execution_count": 3,
   "metadata": {},
   "outputs": [],
   "source": [
    "import pandas as pd\n",
    "\n",
    "# Leer el archivo CSV\n",
    "df = pd.read_csv('20230714_Titulados_Ed_Superior_2022_WEB.csv',sep=\";\")\n",
    "\n",
    "# Número total de filas en el CSV\n",
    "num_rows = len(df)\n",
    "\n",
    "# Calcular el tamaño de cada parte\n",
    "chunk_size = num_rows // 4\n",
    "\n",
    "# Dividir el DataFrame en 4 partes\n",
    "df1 = df.iloc[:chunk_size]\n",
    "df2 = df.iloc[chunk_size:2*chunk_size]\n",
    "df3 = df.iloc[2*chunk_size:3*chunk_size]\n",
    "df4 = df.iloc[3*chunk_size:]\n",
    "\n",
    "# Guardar cada parte en un nuevo archivo CSV\n",
    "df1.to_csv('part1.csv', index=False)\n",
    "df2.to_csv('part2.csv', index=False)\n",
    "df3.to_csv('part3.csv', index=False)\n",
    "df4.to_csv('part4.csv', index=False)\n"
   ]
  }
 ],
 "metadata": {
  "kernelspec": {
   "display_name": "Python 3",
   "language": "python",
   "name": "python3"
  },
  "language_info": {
   "codemirror_mode": {
    "name": "ipython",
    "version": 3
   },
   "file_extension": ".py",
   "mimetype": "text/x-python",
   "name": "python",
   "nbconvert_exporter": "python",
   "pygments_lexer": "ipython3",
   "version": "3.11.9"
  }
 },
 "nbformat": 4,
 "nbformat_minor": 2
}
